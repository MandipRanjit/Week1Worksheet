{
  "nbformat": 4,
  "nbformat_minor": 0,
  "metadata": {
    "colab": {
      "provenance": []
    },
    "kernelspec": {
      "name": "python3",
      "display_name": "Python 3"
    },
    "language_info": {
      "name": "python"
    }
  },
  "cells": [
    {
      "cell_type": "markdown",
      "source": [
        "#Problem 1 - Array creation:"
      ],
      "metadata": {
        "id": "8w1K0oK2uf80"
      }
    },
    {
      "cell_type": "code",
      "execution_count": null,
      "metadata": {
        "colab": {
          "base_uri": "https://localhost:8080/"
        },
        "id": "UTEYo-AWtcQs",
        "outputId": "7ecabc58-9fc7-43c7-8f6f-ab2ea30cf829"
      },
      "outputs": [
        {
          "output_type": "stream",
          "name": "stdout",
          "text": [
            "Empty Array (2x2):\n",
            " [[ 4.67559708e-310  0.00000000e+000]\n",
            " [-2.92437774e-265  6.67981245e-310]]\n",
            "\n",
            "All-Ones Array (4x2):\n",
            " [[1. 1.]\n",
            " [1. 1.]\n",
            " [1. 1.]\n",
            " [1. 1.]]\n",
            "\n",
            "Array filled with 7 (3x3):\n",
            " [[7 7 7]\n",
            " [7 7 7]\n",
            " [7 7 7]]\n",
            "\n",
            "Zeros Array with the same shape as the given array:\n",
            " [[0 0]\n",
            " [0 0]]\n",
            "\n",
            "Ones Array with the same shape as the given array:\n",
            " [[1 1]\n",
            " [1 1]]\n",
            "\n",
            "Converted NumPy Array from list:\n",
            " [1 2 3 4]\n"
          ]
        }
      ],
      "source": [
        "import numpy as np\n",
        "\n",
        "# 1. Initialize an empty array with size 2x2\n",
        "empty_array = np.empty((2, 2))\n",
        "print(\"Empty Array (2x2):\\n\", empty_array)\n",
        "\n",
        "# 2. Initialize an all-ones array with size 4x2\n",
        "ones_array = np.ones((4, 2))\n",
        "print(\"\\nAll-Ones Array (4x2):\\n\", ones_array)\n",
        "\n",
        "# 3. Return a new array of given shape and type, filled with a specific value (e.g., 7)\n",
        "fill_value_array = np.full((3, 3), 7)\n",
        "print(\"\\nArray filled with 7 (3x3):\\n\", fill_value_array)\n",
        "\n",
        "# 4. Return a new array of zeros with the same shape and type as a given array\n",
        "given_array = np.array([[5, 6], [7, 8]])\n",
        "zeros_like_array = np.zeros_like(given_array)\n",
        "print(\"\\nZeros Array with the same shape as the given array:\\n\", zeros_like_array)\n",
        "\n",
        "# 5. Return a new array of ones with the same shape and type as a given array\n",
        "ones_like_array = np.ones_like(given_array)\n",
        "print(\"\\nOnes Array with the same shape as the given array:\\n\", ones_like_array)\n",
        "\n",
        "# 6. Convert an existing list to a NumPy array\n",
        "new_list = [1, 2, 3, 4]\n",
        "converted_array = np.array(new_list)\n",
        "print(\"\\nConverted NumPy Array from list:\\n\", converted_array)\n"
      ]
    },
    {
      "cell_type": "markdown",
      "source": [
        "#Problem - 2: Array Manipulation: Numerical Ranges and Array indexing:"
      ],
      "metadata": {
        "id": "ETiVMHfhu7tw"
      }
    },
    {
      "cell_type": "code",
      "source": [
        "# 1. Create an array with values ranging from 10 to 49\n",
        "range_array = np.arange(10, 50)\n",
        "print(\"\\nArray with values from 10 to 49:\\n\", range_array)\n",
        "\n",
        "# 2. Create a 3x3 matrix with values ranging from 0 to 8\n",
        "reshaped_matrix = np.arange(9).reshape(3, 3)\n",
        "print(\"\\n3x3 Matrix with values from 0 to 8:\\n\", reshaped_matrix)\n",
        "\n",
        "# 3. Create a 3x3 identity matrix\n",
        "identity_matrix = np.eye(3)\n",
        "print(\"\\n3x3 Identity Matrix:\\n\", identity_matrix)\n",
        "\n",
        "# 4. Create a random array of size 30 and find the mean\n",
        "random_array = np.random.random(30)\n",
        "mean_value = random_array.mean()\n",
        "print(\"\\nRandom Array (size 30):\\n\", random_array)\n",
        "print(\"Mean of the random array:\", mean_value)\n",
        "\n",
        "# 5. Create a 10x10 array with random values and find the minimum and maximum\n",
        "random_matrix = np.random.random((10, 10))\n",
        "min_value = random_matrix.min()\n",
        "max_value = random_matrix.max()\n",
        "print(\"\\nRandom 10x10 Matrix:\\n\", random_matrix)\n",
        "print(\"Minimum Value:\", min_value)\n",
        "print(\"Maximum Value:\", max_value)\n",
        "\n",
        "# 6. Create a zero array of size 10 and replace the 5th element with 1\n",
        "zero_array = np.zeros(10)\n",
        "zero_array[4] = 1\n",
        "print(\"\\nZero Array with 5th element replaced by 1:\\n\", zero_array)\n",
        "\n",
        "# 7. Reverse an array [1, 2, 0, 0, 4, 0]\n",
        "array_to_reverse = np.array([1, 2, 0, 0, 4, 0])\n",
        "reversed_array = array_to_reverse[::-1]\n",
        "print(\"\\nReversed Array:\\n\", reversed_array)\n",
        "\n",
        "# 8. Create a 2D array with 1 on border and 0 inside\n",
        "border_array = np.ones((5, 5))\n",
        "border_array[1:-1, 1:-1] = 0\n",
        "print(\"\\n2D Array with 1 on border and 0 inside:\\n\", border_array)\n",
        "\n",
        "# 9. Create an 8x8 matrix with a checkerboard pattern\n",
        "checkerboard = np.zeros((8, 8), dtype=int)\n",
        "checkerboard[1::2, ::2] = 1\n",
        "checkerboard[::2, 1::2] = 1\n",
        "print(\"\\n8x8 Checkerboard Pattern:\\n\", checkerboard)\n"
      ],
      "metadata": {
        "colab": {
          "base_uri": "https://localhost:8080/"
        },
        "id": "K_Hphw7Cu_pu",
        "outputId": "3e660667-a0c5-42ee-c8c8-fde9b7feaf8a"
      },
      "execution_count": null,
      "outputs": [
        {
          "output_type": "stream",
          "name": "stdout",
          "text": [
            "\n",
            "Array with values from 10 to 49:\n",
            " [10 11 12 13 14 15 16 17 18 19 20 21 22 23 24 25 26 27 28 29 30 31 32 33\n",
            " 34 35 36 37 38 39 40 41 42 43 44 45 46 47 48 49]\n",
            "\n",
            "3x3 Matrix with values from 0 to 8:\n",
            " [[0 1 2]\n",
            " [3 4 5]\n",
            " [6 7 8]]\n",
            "\n",
            "3x3 Identity Matrix:\n",
            " [[1. 0. 0.]\n",
            " [0. 1. 0.]\n",
            " [0. 0. 1.]]\n",
            "\n",
            "Random Array (size 30):\n",
            " [0.55038634 0.98312284 0.02685189 0.26139349 0.69287104 0.13775259\n",
            " 0.94867841 0.21403845 0.85080193 0.17362749 0.81208649 0.0457903\n",
            " 0.06203666 0.3145752  0.25298487 0.49213062 0.03463285 0.4725515\n",
            " 0.9721152  0.07646033 0.60758581 0.10469382 0.06939379 0.84567466\n",
            " 0.15399091 0.81197831 0.69690845 0.56129125 0.5035879  0.73070877]\n",
            "Mean of the random array: 0.44869007123230703\n",
            "\n",
            "Random 10x10 Matrix:\n",
            " [[0.3781157  0.01102814 0.34383524 0.89610143 0.73789636 0.8498302\n",
            "  0.81743481 0.04078509 0.10581317 0.6168281 ]\n",
            " [0.62839692 0.28331315 0.84888187 0.86625294 0.02499128 0.7272017\n",
            "  0.65467018 0.23353311 0.82614055 0.26108543]\n",
            " [0.11729555 0.42315895 0.16882225 0.20140764 0.35489547 0.55011028\n",
            "  0.20354974 0.32241742 0.6401911  0.12429202]\n",
            " [0.24348461 0.66201888 0.24046265 0.2271037  0.39561174 0.20786439\n",
            "  0.6157597  0.38896707 0.08920527 0.63704586]\n",
            " [0.7590313  0.74722981 0.83598794 0.80503882 0.01188939 0.71402485\n",
            "  0.88086261 0.54482809 0.4005988  0.86563995]\n",
            " [0.79474327 0.9519419  0.01807789 0.83481809 0.82459624 0.14106682\n",
            "  0.9045016  0.06384099 0.71961783 0.10471708]\n",
            " [0.84387956 0.46758217 0.25229195 0.70866124 0.40712186 0.5587777\n",
            "  0.84621706 0.72413902 0.57356287 0.82038106]\n",
            " [0.91025905 0.05922309 0.4992338  0.3831775  0.8391249  0.85267973\n",
            "  0.7140014  0.76935536 0.88586286 0.2719941 ]\n",
            " [0.65671527 0.08478475 0.51760374 0.72817887 0.28855164 0.54001712\n",
            "  0.6506834  0.94929622 0.37051263 0.59730622]\n",
            " [0.2269585  0.18852935 0.44318932 0.2500456  0.26285457 0.17291289\n",
            "  0.00609661 0.79627409 0.89146688 0.71839814]]\n",
            "Minimum Value: 0.006096609476764936\n",
            "Maximum Value: 0.9519418952422545\n",
            "\n",
            "Zero Array with 5th element replaced by 1:\n",
            " [0. 0. 0. 0. 1. 0. 0. 0. 0. 0.]\n",
            "\n",
            "Reversed Array:\n",
            " [0 4 0 0 2 1]\n",
            "\n",
            "2D Array with 1 on border and 0 inside:\n",
            " [[1. 1. 1. 1. 1.]\n",
            " [1. 0. 0. 0. 1.]\n",
            " [1. 0. 0. 0. 1.]\n",
            " [1. 0. 0. 0. 1.]\n",
            " [1. 1. 1. 1. 1.]]\n",
            "\n",
            "8x8 Checkerboard Pattern:\n",
            " [[0 1 0 1 0 1 0 1]\n",
            " [1 0 1 0 1 0 1 0]\n",
            " [0 1 0 1 0 1 0 1]\n",
            " [1 0 1 0 1 0 1 0]\n",
            " [0 1 0 1 0 1 0 1]\n",
            " [1 0 1 0 1 0 1 0]\n",
            " [0 1 0 1 0 1 0 1]\n",
            " [1 0 1 0 1 0 1 0]]\n"
          ]
        }
      ]
    },
    {
      "cell_type": "markdown",
      "source": [
        "#Problem - 3: Array Operations:"
      ],
      "metadata": {
        "id": "ksfN3Xm1yZv0"
      }
    },
    {
      "cell_type": "code",
      "source": [
        "x = np.array([[1, 2], [3, 5]])\n",
        "y = np.array([[5, 6], [7, 8]])\n",
        "v = np.array([9, 10])\n",
        "w = np.array([11, 12])\n",
        "\n",
        "# 1. Add two arrays\n",
        "add_result = x + y\n",
        "print(\"\\nAddition of x and y:\\n\", add_result)\n",
        "\n",
        "# 2. Subtract two arrays\n",
        "subtract_result = x - y\n",
        "print(\"\\nSubtraction of x and y:\\n\", subtract_result)\n",
        "\n",
        "# 3. Multiply array with an integer\n",
        "multiplied_array = x * 3\n",
        "print(\"\\nArray x multiplied by 3:\\n\", multiplied_array)\n",
        "\n",
        "# 4. Find the square of each element\n",
        "squared_array = x ** 2\n",
        "print(\"\\nSquare of each element in x:\\n\", squared_array)\n",
        "\n",
        "# 5. Dot product\n",
        "dot_vw = np.dot(v, w)\n",
        "dot_xv = np.dot(x, v)\n",
        "dot_xy = np.dot(x, y)\n",
        "print(\"\\nDot Product of v and w:\", dot_vw)\n",
        "print(\"Dot Product of x and v:\\n\", dot_xv)\n",
        "print(\"Dot Product of x and y:\\n\", dot_xy)\n",
        "\n",
        "# 6. Concatenate x and y along rows\n",
        "concat_xy_row = np.concatenate((x, y), axis=0)\n",
        "print(\"\\nConcatenate x and y along rows:\\n\", concat_xy_row)\n",
        "\n",
        "# 7. Concatenate v and w along columns\n",
        "concat_vw_col = np.column_stack((v, w))\n",
        "print(\"\\nConcatenate v and w along columns:\\n\", concat_vw_col)\n",
        "\n",
        "# Explanation: Concatenating x and v fails because their dimensions differ\n",
        "try:\n",
        "    concat_xv = np.concatenate((x, v), axis=0)\n",
        "except ValueError as e:\n",
        "    print(\"\\nConcatenating x and v results in error:\", e)\n"
      ],
      "metadata": {
        "colab": {
          "base_uri": "https://localhost:8080/"
        },
        "id": "MiVAKZDkyZcA",
        "outputId": "c5ea041c-8a85-414e-e1a8-f72aed4a978d"
      },
      "execution_count": null,
      "outputs": [
        {
          "output_type": "stream",
          "name": "stdout",
          "text": [
            "\n",
            "Addition of x and y:\n",
            " [[ 6  8]\n",
            " [10 13]]\n",
            "\n",
            "Subtraction of x and y:\n",
            " [[-4 -4]\n",
            " [-4 -3]]\n",
            "\n",
            "Array x multiplied by 3:\n",
            " [[ 3  6]\n",
            " [ 9 15]]\n",
            "\n",
            "Square of each element in x:\n",
            " [[ 1  4]\n",
            " [ 9 25]]\n",
            "\n",
            "Dot Product of v and w: 219\n",
            "Dot Product of x and v:\n",
            " [29 77]\n",
            "Dot Product of x and y:\n",
            " [[19 22]\n",
            " [50 58]]\n",
            "\n",
            "Concatenate x and y along rows:\n",
            " [[1 2]\n",
            " [3 5]\n",
            " [5 6]\n",
            " [7 8]]\n",
            "\n",
            "Concatenate v and w along columns:\n",
            " [[ 9 11]\n",
            " [10 12]]\n",
            "\n",
            "Concatenating x and v results in error: all the input arrays must have same number of dimensions, but the array at index 0 has 2 dimension(s) and the array at index 1 has 1 dimension(s)\n"
          ]
        }
      ]
    },
    {
      "cell_type": "markdown",
      "source": [
        "#Problem - 4: Matrix Operations:"
      ],
      "metadata": {
        "id": "15lg_Fs2ywdX"
      }
    },
    {
      "cell_type": "code",
      "source": [
        "A = np.array([[3, 4], [7, 8]])\n",
        "B = np.array([[5, 3], [2, 1]])\n",
        "\n",
        "# 1. Prove A * A^-1 = I\n",
        "inverse_A = np.linalg.inv(A)\n",
        "identity_proof = np.dot(A, inverse_A)\n",
        "print(\"\\nA * A^-1:\\n\", identity_proof)\n",
        "\n",
        "# 2. Prove AB != BA\n",
        "AB = np.dot(A, B)\n",
        "BA = np.dot(B, A)\n",
        "print(\"\\nAB:\\n\", AB)\n",
        "print(\"BA:\\n\", BA)\n",
        "\n",
        "# 3. Prove (AB)^T = B^T * A^T\n",
        "transpose_AB = AB.T\n",
        "transpose_BA = np.dot(B.T, A.T)\n",
        "print(\"\\n(AB)^T:\\n\", transpose_AB)\n",
        "print(\"B^T * A^T:\\n\", transpose_BA)\n",
        "\n",
        "# Solve the system of equations\n",
        "coefficients = np.array([[2, -3, 1], [1, -1, 2], [3, 1, -1]])\n",
        "constants = np.array([-1, -3, 9])\n",
        "solution = np.linalg.solve(coefficients, constants)\n",
        "print(\"\\nSolution to the system of linear equations:\\n\", solution)\n"
      ],
      "metadata": {
        "colab": {
          "base_uri": "https://localhost:8080/"
        },
        "id": "EKjM-nq4y04e",
        "outputId": "512ba1bb-6548-4b96-d412-bc3ad484421b"
      },
      "execution_count": null,
      "outputs": [
        {
          "output_type": "stream",
          "name": "stdout",
          "text": [
            "\n",
            "A * A^-1:\n",
            " [[1.00000000e+00 0.00000000e+00]\n",
            " [1.77635684e-15 1.00000000e+00]]\n",
            "\n",
            "AB:\n",
            " [[23 13]\n",
            " [51 29]]\n",
            "BA:\n",
            " [[36 44]\n",
            " [13 16]]\n",
            "\n",
            "(AB)^T:\n",
            " [[23 51]\n",
            " [13 29]]\n",
            "B^T * A^T:\n",
            " [[23 51]\n",
            " [13 29]]\n",
            "\n",
            "Solution to the system of linear equations:\n",
            " [ 2.  1. -2.]\n"
          ]
        }
      ]
    },
    {
      "cell_type": "markdown",
      "source": [
        "#Problem 5: Performance Comparison"
      ],
      "metadata": {
        "id": "dOdpl1BUy97_"
      }
    },
    {
      "cell_type": "code",
      "source": [
        "import time\n",
        "\n",
        "size = 1_000_000\n",
        "\n",
        "# Generate Python lists and NumPy arrays\n",
        "list1, list2 = list(range(size)), list(range(size))\n",
        "array1, array2 = np.arange(size), np.arange(size)\n",
        "\n",
        "# 1. Element-wise addition\n",
        "start = time.time()\n",
        "list_addition = [list1[i] + list2[i] for i in range(size)]\n",
        "end = time.time()\n",
        "print(\"\\nPython Lists Addition Time:\", end - start)\n",
        "\n",
        "start = time.time()\n",
        "numpy_addition = array1 + array2\n",
        "end = time.time()\n",
        "print(\"NumPy Addition Time:\", end - start)\n",
        "\n",
        "# 2. Element-wise multiplication\n",
        "start = time.time()\n",
        "list_multiplication = [list1[i] * list2[i] for i in range(size)]\n",
        "end = time.time()\n",
        "print(\"\\nPython Lists Multiplication Time:\", end - start)\n",
        "\n",
        "start = time.time()\n",
        "numpy_multiplication = array1 * array2\n",
        "end = time.time()\n",
        "print(\"NumPy Multiplication Time:\", end - start)\n",
        "\n",
        "# 3. Dot product\n",
        "start = time.time()\n",
        "list_dot_product = sum(list1[i] * list2[i] for i in range(size))\n",
        "end = time.time()\n",
        "print(\"\\nPython Lists Dot Product Time:\", end - start)\n",
        "\n",
        "start = time.time()\n",
        "numpy_dot_product = np.dot(array1, array2)\n",
        "end = time.time()\n",
        "print(\"NumPy Dot Product Time:\", end - start)\n",
        "\n",
        "# 4. Matrix multiplication\n",
        "matrix_size = 1000\n",
        "list_matrix1 = [[i for i in range(matrix_size)] for _ in range(matrix_size)]\n",
        "list_matrix2 = [[i for i in range(matrix_size)] for _ in range(matrix_size)]\n",
        "numpy_matrix1 = np.array(list_matrix1)\n",
        "numpy_matrix2 = np.array(list_matrix2)\n",
        "\n",
        "start = time.time()\n",
        "list_matrix_multiplication = [\n",
        "    [sum(a * b for a, b in zip(row, col)) for col in zip(*list_matrix2)]\n",
        "    for row in list_matrix1\n",
        "]\n",
        "end = time.time()\n",
        "print(\"\\nPython Lists Matrix Multiplication Time:\", end - start)\n",
        "\n",
        "start = time.time()\n",
        "numpy_matrix_multiplication = np.dot(numpy_matrix1, numpy_matrix2)\n",
        "end = time.time()\n",
        "print(\"NumPy Matrix Multiplication Time:\", end - start)\n"
      ],
      "metadata": {
        "colab": {
          "base_uri": "https://localhost:8080/"
        },
        "id": "ggQUVx7wy75R",
        "outputId": "e4ecba9d-0bfa-4a1e-99db-5725ae3aa32a"
      },
      "execution_count": null,
      "outputs": [
        {
          "output_type": "stream",
          "name": "stdout",
          "text": [
            "\n",
            "Python Lists Addition Time: 0.31280088424682617\n",
            "NumPy Addition Time: 0.0062999725341796875\n",
            "\n",
            "Python Lists Multiplication Time: 0.3392512798309326\n",
            "NumPy Multiplication Time: 0.002757549285888672\n",
            "\n",
            "Python Lists Dot Product Time: 0.33383703231811523\n",
            "NumPy Dot Product Time: 0.0021314620971679688\n",
            "\n",
            "Python Lists Matrix Multiplication Time: 182.86501145362854\n",
            "NumPy Matrix Multiplication Time: 2.332002878189087\n"
          ]
        }
      ]
    }
  ]
}